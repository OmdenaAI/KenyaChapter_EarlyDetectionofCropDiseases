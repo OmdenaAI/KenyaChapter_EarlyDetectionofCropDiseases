{
 "cells": [
  {
   "cell_type": "markdown",
   "id": "c087d7bf-9d79-423a-a507-d0d442d8d945",
   "metadata": {},
   "source": [
    "__DOWNLOAD THE IMAGES FROM CSV TO LOCAL MACHINE__"
   ]
  },
  {
   "cell_type": "markdown",
   "id": "44e62854-34c6-4ed5-9381-4a2c706416ca",
   "metadata": {},
   "source": [
    "- After you download the CSV to your local machine:\n",
    "  - Change the `csv_path` to the location of the downloaded CSV file.\n",
    "  - Create a folder for the images:\n",
    "    - Change the `images_folder` to the location of the folder you just created.\n",
    "    - This folder will store the images once downloaded.\n",
    "    - then run the code "
   ]
  },
  {
   "cell_type": "code",
   "execution_count": null,
   "id": "08e1546d-40a1-47a1-b8d6-362e5489f5c4",
   "metadata": {},
   "outputs": [],
   "source": [
    "import pandas as pd\n",
    "import requests\n",
    "import os\n",
    "import time\n",
    "\n",
    "# Define the paths\n",
    "csv_path = '.csv'  # Path to the CSV file\n",
    "images_folder = '/images'  # Folder to save all images\n",
    "\n",
    "# Read the CSV file\n",
    "df = pd.read_csv(csv_path)\n",
    "\n",
    "# Ensure the required columns exist\n",
    "if 'dagshub_download_url' in df.columns and 'path' in df.columns:\n",
    "    # Ensure the directory exists\n",
    "    os.makedirs(images_folder, exist_ok=True)\n",
    "    \n",
    "    # Download each image\n",
    "    for index, row in df.iterrows():\n",
    "        image_url = row['dagshub_download_url']\n",
    "        image_name = os.path.join(images_folder, os.path.basename(row['path']))  # Use only the filename from the 'path' column\n",
    "        \n",
    "        # Retry mechanism\n",
    "        retries = 3  # Number of retries\n",
    "        for attempt in range(retries):\n",
    "            try:\n",
    "                # Download the image\n",
    "                response = requests.get(image_url)\n",
    "                response.raise_for_status()  # Raise an error for bad responses\n",
    "                with open(image_name, 'wb') as f:\n",
    "                    f.write(response.content)\n",
    "                print(f\"Downloaded: {image_name}\")\n",
    "                break  # Exit the retry loop if successful\n",
    "            except requests.exceptions.RequestException as e:\n",
    "                print(f\"Attempt {attempt + 1} failed: {e}\")\n",
    "                time.sleep(2)  # Wait before retrying\n",
    "        else:\n",
    "            print(f\"Failed to download image from {image_url} after {retries} attempts.\")\n",
    "else:\n",
    "    print(\"Required columns not found in the CSV.\")"
   ]
  }
 ],
 "metadata": {
  "kernelspec": {
   "display_name": "Python 3 (ipykernel)",
   "language": "python",
   "name": "python3"
  },
  "language_info": {
   "codemirror_mode": {
    "name": "ipython",
    "version": 3
   },
   "file_extension": ".py",
   "mimetype": "text/x-python",
   "name": "python",
   "nbconvert_exporter": "python",
   "pygments_lexer": "ipython3",
   "version": "3.12.7"
  }
 },
 "nbformat": 4,
 "nbformat_minor": 5
}
